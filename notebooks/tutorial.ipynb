{
 "cells": [
  {
   "cell_type": "markdown",
   "metadata": {},
   "source": [
    "# A weekend replication of [STOKE](http://stoke.stanford.edu/), a stochastic superoptimiser"
   ]
  },
  {
   "cell_type": "markdown",
   "metadata": {},
   "source": [
    "A super optimizer is a type of compiler that takes a program and finds\n",
    "the _optimal_ sequence of instructions that perform the same task as\n",
    "the original program.\n",
    "\n",
    "A _stochastic_ thing `X` is a thing `X` that uses randomness.\n",
    "\n",
    "STOKE is a superoptimizer that finds optimal instruction sequences\n",
    "to perform a particular task by using numerical techniques which\n",
    "rely on randomness (markov-chain-monte-carlo/MCMC) to explore the\n",
    "space of \"all possible programs\".\n",
    "\n",
    "Here, we re-implement `STOKE` for a tiny stack machine language whose instruction\n",
    "set is `Push`, `Add`, `Mul`, and `And`.\n",
    "\n",
    "### Sample output\n",
    "\n",
    "```\n",
    "*** original: (nparams: 0 | [IPush 2,IPush 3,IAdd])***\n",
    "[IPush 5] | score: 2.5 // constant folding: 2 + 3 -> 5\n",
    "\n",
    "*** original: (nparams: 1 | [IPush 2,IMul])***\n",
    "[IDup,IAdd] | score: 2.25 // strength reduction: 2 * x -> x + x\n",
    "\n",
    "*** original: (nparams: 1 | progInsts = [IDup,IAnd])***\n",
    "[] | score: 3.0 // strength folding: x & x == x\n",
    "```\n",
    "\n",
    "That is, we automatically disover those program transformations by randomly trying different\n",
    "programs (in a somewhat smart way).\n",
    "\n",
    "### High level algorithm\n",
    "\n",
    "What we do is to \"MCMC-sample the space of possible programs, with a\n",
    "scoring function based on program equivalence and performance\". Broken\n",
    "down, the steps are:\n",
    "\n",
    "- Start with the original program `p`\n",
    "- Perturb it slightly to get a program `q` (add an instruction, remove some instructions, change an instruction)\n",
    "- Assign a score to `q` by sending `p` and `q` random inputs, and checking\n",
    "  how often they answer the same.\n",
    "- If they answered the same for _all_ random inputs, ask an SMT solver\n",
    "  nicely if `p` and `q` are _equivalent_. If she's in a good mood and the\n",
    "  universe is kind, the answer is yes.\n",
    "- Now, score `q` based on the factors of:\n",
    "    1. Are `p` and `q` semantically equivalent?\n",
    "    2. On how many inputs `p` and `q` had the same answer?\n",
    "    3. is `q` faster than `p`?\n",
    "- Now, either pick `q` to be the new `p` or stay at `p` depending on `q`'s\n",
    "  score.\n",
    "- Repeat ~10,000 times.\n",
    "- Order best `q`s visited.\n",
    "\n",
    "\n",
    "The results are quite impressive: Even with code as naive as what I've written,\n",
    "we are able to regain peephole optimisations that compilers perform essentially\n",
    "\"for free\".\n"
   ]
  },
  {
   "cell_type": "markdown",
   "metadata": {},
   "source": [
    "As usual, since we code in haskell, we begin with incantations to GHC:"
   ]
  },
  {
   "cell_type": "code",
   "execution_count": 5,
   "metadata": {},
   "outputs": [],
   "source": [
    "{-# LANGUAGE RecordWildCards #-}\n",
    "{-# LANGUAGE DeriveFunctor #-}\n",
    "{-# LANGUAGE ScopedTypeVariables #-}\n",
    "{-# LANGUAGE GADTs #-}\n",
    "{-# LANGUAGE TupleSections #-}\n",
    "{-# LANGUAGE FlexibleContexts #-}\n",
    "\n",
    "import GHC.Stack\n",
    "import Data.Maybe (catMaybes)\n",
    "import Data.List (nub, sortOn, sortBy)\n",
    "import Data.Bits\n",
    "import Data.SBV\n",
    "import Data.SBV.Internals (CV)\n",
    "import Data.Word\n",
    "import Control.Monad\n",
    "import System.Random\n",
    "import Control.Applicative\n",
    "import Control.Monad.State\n",
    "import Control.Monad.Fail\n",
    "import Debug.Trace"
   ]
  },
  {
   "cell_type": "markdown",
   "metadata": {},
   "source": [
    "Next, we build some primitives to get our hands on randomness: `randint`, `randint8`, `randfloat`, and `randbool`."
   ]
  },
  {
   "cell_type": "code",
   "execution_count": 6,
   "metadata": {},
   "outputs": [],
   "source": [
    "-- | provide a random integer in [lo, hi]\n",
    "randint :: (Int, Int) -> IO Int\n",
    "randint (lo, hi) = liftIO $ getStdRandom $ randomR (lo, hi)\n",
    "\n",
    "-- | random uniform int8 (any int8)\n",
    "randint8 :: IO Int8\n",
    "randint8 = liftIO $ getStdRandom $ randomR (-128, 127)\n",
    "\n",
    "-- | random uniform float in (lo, hi)\n",
    "randfloat :: (Float, Float) -> IO Float\n",
    "randfloat (lo, hi) = liftIO $ getStdRandom $ randomR (lo, hi)\n",
    "\n",
    "-- | random boolean\n",
    "randbool :: IO Bool\n",
    "randbool = getStdRandom $ random"
   ]
  },
  {
   "cell_type": "markdown",
   "metadata": {},
   "source": [
    "#### Introduction to stack machines\n",
    "\n",
    "We now introduce our instruction set, and notion of a program, and we show how to execute a program\n",
    "to understand our instruction set. Our language is going to a stack based language.\n",
    "\n",
    "At the beginning of the program, we assume that the parameters are present on the stack.\n",
    "\n",
    "We have instructions to push values onto the stack, and any operations like `Add` or `Mul`\n",
    "will always operate on values that are at the top of the stack.\n",
    "\n",
    "At the end of the program, we assume that we only one value left on the stack,\n",
    "the output of the program.\n",
    "\n",
    "\n",
    "#### An example\n",
    "\n",
    "To implement `\\x -> x + 1`, This will be the sequence of instructions `[IPush 1, IAdd]`.\n",
    "\n",
    "This corresponds to the following sequence of events:\n",
    "- Initially, the stack contains the parameter to our program `[x] <- top of stack`\n",
    "- Next, we execute `Push 1` which pushes a `1` to the top: `[x, 1] <- top of stack`\n",
    "- Next, we execute `Add` which pops `x` and `1` from the top of the stack, and pushes down `x + 1`.\n",
    "  So, our stack will be `[x + 1] <- top of stack`.\n",
    "- The computation has ended, since we have run all instructions, and we have a single value left on the stack,\n",
    "  `x + 1`.\n",
    "  \n",
    "#### Some more quick examples:\n",
    "\n",
    "- `\\x -> (x + 1) * 2` will be the instructions `[Push 1, Add, Push 2, Mul]`.\n",
    "- `\\x -> x + x` will be the instructions `[Dup, Add]` where `Dup` duplicates the value at the top of the stack.\n",
    "- `\\x -> x` will be the instructions `[]`. We don't need to do anything, since the program starts with the parameter on the stack.\n",
    "\n",
    "#### Real-world examples\n",
    "\n",
    "the java virtual machine is stack-based. Their instruction set can be [found here](https://docs.oracle.com/javase/specs/jvms/se7/html/jvms-6.html). It is far more extensive\n",
    "since it has support for arrays, method invocations, and whatnot. However, the _idea_ is\n",
    "exactly the same.\n",
    "\n",
    "#### Our instruction set\n",
    "\n",
    "`Inst` is our datatype which describes instructions. `Program` contains a sequence of instructions `progInsts`, and\n",
    "the number of parameters this program requires, `progNParams`.\n",
    "\n",
    "`interpInst` interprets a single instruction, returning a `Just` if it is successful, and `Nothing`\n",
    "otherwise.\n",
    "\n",
    "`interpInsts` interprets a sequence of instructions, returning a `Just a`\n",
    "of the final value on top of the stack after the program is executed, and `Nothing` otherwise. "
   ]
  },
  {
   "cell_type": "code",
   "execution_count": 35,
   "metadata": {},
   "outputs": [
    {
     "data": {
      "text/plain": [
       "p1plus3: (nparams: 0 | [IPush 1,IPush 2,IAdd]) | Just 3"
      ]
     },
     "metadata": {},
     "output_type": "display_data"
    },
    {
     "data": {
      "text/plain": [
       "pmul2: (nparams: 1 | [IPush 2,IMul]) | Just 20"
      ]
     },
     "metadata": {},
     "output_type": "display_data"
    },
    {
     "data": {
      "text/plain": [
       "pmul2 with too much on the stack: (nparams: 1 | [IPush 2,IMul]) | Nothing"
      ]
     },
     "metadata": {},
     "output_type": "display_data"
    }
   ],
   "source": [
    "data Inst = \n",
    "  IPush Int8 --- ^ Push a value onto the stack\n",
    "  | IAdd -- ^ Add the top two values on of the stack \n",
    "  | IMul -- ^ Multiply the top two values of the stack\n",
    "  | IDup -- ^ Duplicate the value on top of the stack\n",
    "  | IAnd -- ^ Take the bitwise AND of the top two  values of the stack\n",
    "  | ISwap -- ^ Swap the top two values of the stack\n",
    "  deriving(Eq, Show, Ord)\n",
    "\n",
    "data Program = Program { progNParams :: Int, progInsts :: [Inst] }\n",
    "  deriving (Eq, Ord)\n",
    "\n",
    "instance Show Program where\n",
    "  show (Program nparams insts) =\n",
    "     \"(\" <> \"nparams: \" <> show nparams <> \" | \" <> show insts <> \")\"\n",
    "\n",
    "-- | Given input stack and instruction, return output stack\n",
    "interpInst :: Num a => Bits a =>  [a] -> Inst -> Maybe [a]\n",
    "interpInst as (IPush x) = Just $ (fromIntegral x):as\n",
    "interpInst (a:a':as) (IAdd) = Just $ (a+a':as)\n",
    "interpInst (a:a':as) (IMul) = Just $ (a*a':as)\n",
    "interpInst (a:as) (IDup) = Just $ (a:a:as)\n",
    "interpInst (a:a':as)(IAnd) = Just $ (a .&. a':as)\n",
    "interpInst (a:a':as) (ISwap) = Just $ (a':a:as)\n",
    "interpInst _ _ = Nothing\n",
    "\n",
    "-- | Given input stack and a sequence of instructions in a program,\n",
    "-- run the sequence of instructions and return the output stack. \n",
    "interpInsts :: Num a => Bits a => [Inst] -> [a] -> Maybe a\n",
    "interpInsts insts as =\n",
    "  case foldM interpInst as insts of\n",
    "    Just [a] -> Just a\n",
    "    _ -> Nothing\n",
    "\n",
    "-- | Given program and stack, compute output\n",
    "interpProgram :: Num a => Bits a => Program -> [a] -> Maybe a\n",
    "interpProgram Program{..} as = interpInsts progInsts as\n",
    "\n",
    "-- | compute 1 + 2\n",
    "p1plus3 :: Program\n",
    "p1plus3 = Program 0 [IPush 1, IPush 2, IAdd]\n",
    "\n",
    "putStrLn $ \"p1plus3: \" <> show p1plus3 <> \" | \" <> show (interpProgram p1plus3 []) \n",
    "\n",
    "-- | compute \\x -> x * 2 with x = 10\n",
    "pmul2 :: Program\n",
    "pmul2 = Program 1 [IPush 2, IMul]\n",
    "\n",
    "putStrLn $ \"pmul2: \" <> show pmul2 <> \" | \" <> show (interpProgram pmul2 [10]) \n",
    "putStrLn $ \"pmul2 with too much on the stack: \" <> show pmul2 <> \" | \" <> show (interpProgram pmul2 []) "
   ]
  },
  {
   "cell_type": "markdown",
   "metadata": {},
   "source": [
    "#### Cost model for our instruction set\n",
    "\n",
    "We introduce a simplistic cost model, which charges multiplication `4`, other operations `1`.\n",
    "We have `costInst` that calculates the cost of a single `Inst`, and `costProgram` which sums up\n",
    "the costs of the instructions of the program.\n",
    "\n",
    "We will refer back to this when we are assigining a score to a program. A program with higher costs\n",
    "will be penalized, since we want to _optimise_ a program: we are looking for a program with the lowest cost"
   ]
  },
  {
   "cell_type": "code",
   "execution_count": 89,
   "metadata": {},
   "outputs": [
    {
     "data": {
      "text/plain": [
       "mul2: (nparams: 1 | [IPush 2,IMul]) | cost: 5.0"
      ]
     },
     "metadata": {},
     "output_type": "display_data"
    },
    {
     "data": {
      "text/plain": [
       "1plus3: (nparams: 0 | [IPush 1,IPush 2,IAdd]) | cost: 3.0"
      ]
     },
     "metadata": {},
     "output_type": "display_data"
    }
   ],
   "source": [
    "-- | Cost per instruction\n",
    "costInst :: Inst -> Float\n",
    "costInst (IPush _) = 1\n",
    "costInst IAdd = 1\n",
    "costInst IMul = 4\n",
    "costInst IDup = 1\n",
    "costInst IAnd = 1\n",
    "costInst ISwap = 1\n",
    "\n",
    "-- | Sum of costs of instructions in the program\n",
    "costProgram :: Program -> Float\n",
    "costProgram p = sum $ map costInst $ progInsts p\n",
    "\n",
    "putStrLn $ \"mul2: \" <> show pmul2 <> \" | cost: \" <> show (costProgram pmul2)\n",
    "putStrLn $ \"1plus3: \" <> show p1plus3 <> \" | cost: \" <> show (costProgram p1plus3)"
   ]
  },
  {
   "cell_type": "markdown",
   "metadata": {},
   "source": [
    "#### Randomly perturbing programs\n",
    "\n",
    "Next, we need a way to _edit_ a given program to get a program similar to it. We want to gradually\n",
    "edit a program, to explore the \"space of all possible programs\". For this, we will build functions to:\n",
    "\n",
    "- Generate a random instruction: `randInst`\n",
    "- Add an instruction to a program: `addListElem`\n",
    "- Remove a section of instructions from a program: `dropListElems`\n",
    "- Edit an instruction in a program: `replaceListElem`\n",
    "\n",
    "To edit a program, we will apply one of these choices randomly: `perturbProgram`"
   ]
  },
  {
   "cell_type": "code",
   "execution_count": 43,
   "metadata": {},
   "outputs": [
    {
     "data": {
      "text/plain": [
       "original pmul2: (nparams: 1 | [IPush 2,IMul])"
      ]
     },
     "metadata": {},
     "output_type": "display_data"
    },
    {
     "data": {
      "text/plain": [
       "perturbed pmul2: (nparams: 1 | [IMul])\n",
       "perturbed pmul2: (nparams: 1 | [IPush 78,IMul])\n",
       "perturbed pmul2: (nparams: 1 | [IPush 2,IAdd,IMul])"
      ]
     },
     "metadata": {},
     "output_type": "display_data"
    }
   ],
   "source": [
    "-- | generate a random instruction.\n",
    "randInst :: IO Inst\n",
    "randInst = do\n",
    "  r <- randint (1, 6)\n",
    "  case r of\n",
    "    1 -> IPush <$> randint8\n",
    "    2 -> pure $ IAdd\n",
    "    3 -> pure $ IMul\n",
    "    4 -> pure $ IDup\n",
    "    5 -> pure $ IAnd\n",
    "    6 -> pure $ ISwap\n",
    "\n",
    "\n",
    "-- | drop a list element at the specified indeces (inclusive)\n",
    "dropListElems :: [a] -> Int -> Int -> [a]\n",
    "dropListElems as ixbegin ixend = take ixbegin as ++ drop (ixend + 1) as\n",
    "\n",
    "-- | replace a list element at the specified index\n",
    "replaceListElem :: [a] -> Int -> a -> [a]\n",
    "replaceListElem as ix a = take ix as ++ [a] ++ drop (ix+1) as\n",
    "\n",
    "-- | add to a list *after* the specified index\n",
    "addListElem :: [a] -> Int -> a -> [a]\n",
    "addListElem as ix a = take ix as ++ [a] ++ drop ix as\n",
    "\n",
    "\n",
    "-- | Edit the program by a single instruction. Add, modify, or delete\n",
    "-- an instruction.\n",
    "perturbProgram :: Program -> IO Program\n",
    "perturbProgram Program{..} = do\n",
    "  r <- randint (1, 3) -- ^ pick a random choice\n",
    "  ix <- randint (0, length progInsts - 1) -- ^ pick a random index\n",
    "  ix' <- (ix +) <$> randint (0, length progInsts - 1) -- ^ and another one\n",
    "  progInsts <- case r of\n",
    "                 1 -> pure $ dropListElems progInsts ix ix'\n",
    "                 2 -> replaceListElem progInsts ix <$> randInst\n",
    "                 3 -> addListElem progInsts ix <$> randInst\n",
    "\n",
    "  return $ Program{..}\n",
    "  \n",
    "putStrLn $ \"original pmul2: \" <> show pmul2\n",
    "replicateM_ 3 $ perturbProgram pmul2 >>= \\p -> putStrLn $ \"perturbed pmul2: \" <> show p"
   ]
  },
  {
   "cell_type": "markdown",
   "metadata": {},
   "source": [
    "#### Optimising using perturbed programs\n",
    "\n",
    "Sweet. Now, we need methods to decide which perturbed programs to keep and which to drop. For this, we have two criteria:\n",
    "- **Correctness**: Does the original progam and the new perturbed program _behave_ the same way? \n",
    "- **Performance**: Does the perturbed program run _faster_ than the original program?\n",
    "\n",
    "We answer the correctness question in two ways: First, we run both programs on a small number of random inputs. If they\n",
    "give different answers on these random inputs, then we are sure that the programs are different. If they answer the\n",
    "same, then we need to now create a _proof_ that they are equal. Remember, compilers are not allowed to change the\n",
    "_meaning_ of a program!\n",
    "\n",
    "For performance, we build a _cost model_: A mapping of instructions to how much time they take, and we optimise\n",
    "on this cost model --- we try to reduce the total time our program takes.\n",
    "\n",
    "Let's do correctness first, since it's a little more involved, and will require us to use `SBV`, a\n",
    "neat haskell library that allows us to communicate with the `Z3` solver."
   ]
  },
  {
   "cell_type": "markdown",
   "metadata": {},
   "source": [
    "#### Proving equivalence part 1: Running two programs on the same inputs\n",
    "\n",
    "We implement `proprtionAgreeingRuns`, which given two progams, gives us the number of runs on which\n",
    "they provided the same output. It's a surprisingly effective way to weed out programs that do different things.\n",
    "\n",
    "We first check that both programs take the same number of inputs. If they don't we immediately return a `0`.\n",
    "Once we know that they take the same number of inputs, we generate random inputs `10` times and compare their outputs. We return the proportion of times their outputs were the same.\n",
    "\n",
    "Indeed, this kind of checking of \"using random inputs to check if two programs are the same\" is a big deal in complexity\n",
    "theory. It's a subfield unto itself called [property testing](https://en.wikipedia.org/wiki/Property_testing), and \n",
    "we have proofs that this kind of checking is remarkably effective in many constrained situations."
   ]
  },
  {
   "cell_type": "code",
   "execution_count": 57,
   "metadata": {},
   "outputs": [
    {
     "data": {
      "text/plain": [
       "*** mul2: (nparams: 1 | [IPush 2,IMul]) | mul2': (nparams: 1 | [IAdd,IPush 2,IMul])\n",
       "    proportion of agreeing runs: 0.0\n",
       "*** mul2: (nparams: 1 | [IPush 2,IMul]) | mul2': (nparams: 1 | [IPush 2,IDup])\n",
       "    proportion of agreeing runs: 0.0\n",
       "*** mul2: (nparams: 1 | [IPush 2,IMul]) | mul2': (nparams: 1 | [IAnd,IMul])\n",
       "    proportion of agreeing runs: 0.0"
      ]
     },
     "metadata": {},
     "output_type": "display_data"
    }
   ],
   "source": [
    "proportionAgreeingRuns :: Program -> Program -> IO Float\n",
    "proportionAgreeingRuns p1 p2 = do\n",
    "  if progNParams p1 /= progNParams p2\n",
    "  then return 0\n",
    "  else do\n",
    "    let nruns = 10\n",
    "    scores <- replicateM nruns $ do\n",
    "      ps <- replicateM (progNParams p1) randint8\n",
    "      let l = interpProgram p1 ps\n",
    "      let r = interpProgram p2 ps\n",
    "      return $ if l == r then 1 else 0\n",
    "    return $ fromIntegral (sum scores) / fromIntegral nruns\n",
    "\n",
    "-- | Test between mul2 and it's perturbed variant\n",
    "replicateM_ 3 $ do \n",
    "  pmul2' <- perturbProgram pmul2\n",
    "  putStrLn $ \"*** mul2: \" <> show pmul2 <> \" | mul2': \" <> show pmul2'\n",
    "  prop <- proportionAgreeingRuns pmul2 pmul2'\n",
    "  putStrLn $ \"    proportion of agreeing runs: \" <> show prop"
   ]
  },
  {
   "cell_type": "markdown",
   "metadata": {},
   "source": [
    "#### Proving equivalence part 2: Creating a Symbolic expression whether two programs are equal.\n",
    "\n",
    "We use the [SBV package](http://hackage.haskell.org/package/sbv) for this part.\n",
    "\n",
    "we build the code that calls the solver. Here too, we use the `interpProgram` function. Note that we had written it\n",
    "with a little too much generatily, needing only `Num a` and `Bits a`. Here, we use that generality to run the interpreter on the type `SInt16`, which is a type of _symbolic `int16`_ values. This allows us to neatly get a symbolic expression for the effect\n",
    "our program has.\n",
    "\n",
    "If both programs have the same number of parameters, we create `params`, a list of symbolic values, one for each value, which\n",
    "are universally quantified. \n",
    "\n",
    "Next, we run both programs `p1` and `p2` on this _symbolic stack_, consisting of symbols `[p1, p2, ... pn]`. This will give\n",
    "us a _symbolic representation_ of the programs `p1` and `p2`.\n",
    "\n",
    "If all went well, we would have the expressions `s1` and `s2` with the symbolic effects of the program. We return the condition that `s1 .== s2`. That is, the effect of the first program must be equal to the effect of the second program.\n",
    "\n",
    "Whenever we hit some kind of failure mode: the programs do not have the same number of parameters, or are unble to return a final value,\n",
    "we return `1 .== 0 :: Symbolic SBool`, which indicates failure (`1 = 0` is a constraint that can never be solved, and thus\n",
    "we will always fail inside the solver).\n",
    "\n",
    "#### Quick example of proving program equivalence\n",
    "\n",
    "Let us say we want to prove the program `p1 = [Push 2; PMul]` which take 1 parameter is equivalent to `p2 = [Dup; Add]`. The steps are:\n",
    "- create the array `params` which has a parameter `forall x. x`.\n",
    "- run the program `p1`,  which will give us the formula `x * 2`\n",
    "- run the program `p2`, which will give us the formula `x + x\n",
    "- assert that `forall x. x * 2 = x + x`\n",
    "\n",
    "\n",
    "This is sensible, since if the programs have the same effect _for all choices of parameters `x`_, then one can state that they _really are equal_. The universal quantification (`forall x.`) is critical here."
   ]
  },
  {
   "cell_type": "code",
   "execution_count": 81,
   "metadata": {},
   "outputs": [],
   "source": [
    "smtQueryEquivProgram :: Program -> Program -> Symbolic SBool\n",
    "smtQueryEquivProgram p1 p2 = do\n",
    "  if progNParams p1 /= progNParams p2\n",
    "  then return $ 1 .== (0 :: SInt8)\n",
    "  else do\n",
    "    params <- sequence $ [forall $ \"p-\" <> show i | i <- [1..progNParams p1]]\n",
    "    let ms1 = interpInsts (progInsts p1) params :: Maybe SInt8\n",
    "    let ms2 = interpInsts (progInsts p1) params :: Maybe SInt8\n",
    "    case liftA2 (,) ms1 ms2 of\n",
    "      Nothing -> return $ 1 .== (0 :: SInt8)\n",
    "      Just (s1, s2) -> return $ s1 .== s2"
   ]
  },
  {
   "cell_type": "markdown",
   "metadata": {},
   "source": [
    "#### Scoring function\n",
    "We combine the two correctness metrics and our cost metric into `scoreProgram`, which scores how close a program is to another program. \n",
    "- Higher scores are better.\n",
    "- Scores above `2.0` indicate that we passed all correctness checks, and the extra points are present for performance. \n",
    "- `3.0` is the highest score possible\n",
    "- `0.1` is the lowest score possible.\n",
    "\n",
    "We provide `0.1` as the lowest score, since we use the score later to decide whether this new program\n",
    "deserves to be picked. We want _all_ programs to have _some_ chance of being picked.\n",
    "\n",
    "- First, we check if two programs agree on all random inputs with `proportionAgreeingRuns`. `nagree`\n",
    "  is the proportion of times the two programs _actually_ agree.\n",
    "- Only if they do (`nagree == 1.0)`, do we make the expensive query to the solver to check that they are equal with `smtQueryEquivProgram`.\n",
    "- If the programs are really equal, we return `2.0 + <cost penalty>` where a cost of `0` scores `1`, and higher costs score\n",
    "  exponentially less.\n",
    "- If the programs are not equal, we return `nagree + 0.1`. This is to ensure that even if the two programs do not agree\n",
    "  at all (ie, `nagree = 0.0`, we still have some chance of picking the other program."
   ]
  },
  {
   "cell_type": "code",
   "execution_count": 95,
   "metadata": {},
   "outputs": [],
   "source": [
    "-- | Type synonym for readability\n",
    "type Score = Float\n",
    "\n",
    "-- | Higher score is better.\n",
    "score :: Program -- ^ baseline program\n",
    "    -> Program -- ^ newly proposed program `q` whose score we are computing\n",
    "    -> IO Score -- ^ score of the new program `q`\n",
    "score p q = do\n",
    "  nagree <- proportionAgreeingRuns p q\n",
    "  if nagree /= 1.0\n",
    "  then return $ 0.1 + nagree\n",
    "  else do\n",
    "    res <- sat $ setTimeOut 100 >> smtQueryEquivProgram p q\n",
    "    if not $ modelExists res\n",
    "    then return $ 0.1 + nagree\n",
    "    else return $ 2.0 + 2.0 ** (-1.0 * costProgram q)"
   ]
  },
  {
   "cell_type": "markdown",
   "metadata": {},
   "source": [
    "#### MCMC\n",
    "\n",
    "We implement a standard metropolis-hastings algorithm, which uses `scoreProgram` as the proposal distribution. So,\n",
    "correct programs which run fast are given higher probability in the proposal. \n",
    "\n",
    "We have `c` as the original program we are trying to optimise.\n",
    "\n",
    "We sample a new program `p` in `mhStep` close to the current program `p` using `p' <- perturbProgram p`. Then we calculate the\n",
    "acceptance ratio as `score p'/ score p`, and accept or reject based on this.\n",
    "\n",
    "We memoise the computation of the score of the current program `p` by passing a tuple of `(Score, Program)` in `mhStep`.\n",
    "\n",
    "\n",
    "Finally, `mhTrace` is the main entry point into the MCMC algorithm, which takes the number of samples we want and an initial configuration, and returns to us a list of programs along with their scores."
   ]
  },
  {
   "cell_type": "code",
   "execution_count": 120,
   "metadata": {},
   "outputs": [
    {
     "data": {
      "text/plain": [
       "(2.03125,(nparams: 1 | [IPush 2,IMul]))\n",
       "(2.03125,(nparams: 1 | [IPush 2,IMul]))\n",
       "(2.015625,(nparams: 1 | [IPush 2,ISwap,IMul]))\n",
       "(0.1,(nparams: 1 | [IAnd]))\n",
       "(0.1,(nparams: 1 | []))\n",
       "(0.1,(nparams: 1 | [IAdd]))\n",
       "(0.1,(nparams: 1 | [IPush (-6),IDup]))\n",
       "(0.1,(nparams: 1 | [IAnd]))\n",
       "(0.1,(nparams: 1 | [IAnd]))"
      ]
     },
     "metadata": {},
     "output_type": "display_data"
    }
   ],
   "source": [
    "-- | Take a step of metropolois hastings\n",
    "mhStep :: Program -- ^ ground truth (concrete)\n",
    "          -> (Score, Program) -- ^ current position\n",
    "          -> IO (Score, Program) -- ^ next position\n",
    "mhStep c (score, p) = do\n",
    "  p' <- perturbProgram p\n",
    "  score' <- scoreProgram c p'\n",
    "  let accept = score' / score\n",
    "  r <- randfloat (0, 1)\n",
    "  pure $ if r < accept then (score', p') else (score, p)\n",
    "\n",
    "\n",
    "-- | Repeat a monadic computation\n",
    "mRepeat :: Monad m => Int -> (a -> m a) -> (a -> m a)\n",
    "mRepeat 0 _ = pure\n",
    "mRepeat n f = f >=> mRepeat (n - 1) f\n",
    "\n",
    "-- | Return the trace of programs seen and their scores\n",
    "mhTrace :: Int -- ^ number of samples\n",
    "        -> Program -- ^ original program (concrete)\n",
    "        -> IO [(Score, Program)] -- ^ scores\n",
    "mhTrace n c =\n",
    "  let nsteps = 10\n",
    "      -- go :: Int -> (Score, Program) -> M (Score, Program)\n",
    "      go 0 (s, p) = pure [(s, p)]\n",
    "      go n (s, p) = do\n",
    "                      (s', p') <- mRepeat nsteps (mhStep c) $ (s, p)\n",
    "                      rest <- go (n - 1) (s', p')\n",
    "                      return $ (s', p'):rest\n",
    "  in do\n",
    "    let beginp = c\n",
    "    s <- scoreProgram c beginp\n",
    "    go n (s, beginp)\n",
    "\n",
    "-- | Sample run on mul2\n",
    "do \n",
    "  ps <- mhTrace 8 pmul2\n",
    "  forM_ ps print"
   ]
  },
  {
   "cell_type": "markdown",
   "metadata": {},
   "source": [
    "#### Putting it all together\n",
    "\n",
    "We implement `optimise`, a thin wrapper around `mhTrace`, which invokes `mhTrace` for a 1000 iterations, sorts the\n",
    "programs in descencing order, takes the best `4` programs and prints them out nicely.\n",
    "\n",
    "We use `optimise` in `main` to check the optimised versions of some sample programs, and they are indeed what we would expect: \n",
    "- `2 + 3` gets [constant folded](https://en.wikipedia.org/wiki/Constant_folding) to `5`\n",
    "- `\\x -> x * 2` gets [strength reduced](https://en.wikipedia.org/wiki/Strength_reduction) to `x + x`\n",
    "- `\\x -> x & x` gets constanr folded to `\\x -> x`."
   ]
  },
  {
   "cell_type": "code",
   "execution_count": 127,
   "metadata": {},
   "outputs": [
    {
     "data": {
      "text/plain": [
       "*** original: (nparams: 0 | [IPush 2,IPush 3,IAdd])***\n",
       "[IPush 5] | score: 2.5\n",
       "[IPush 2,IPush 3,ISwap,IAdd] | score: 2.0625\n",
       "[IPush 2,IPush 3,ISwap,ISwap,IAdd] | score: 2.03125\n",
       "*** original: (nparams: 1 | [IPush 2,IMul])***\n",
       "[IDup,IAdd] | score: 2.25\n",
       "[IDup,ISwap,IAdd] | score: 2.125\n",
       "[IDup,ISwap,ISwap,IAdd] | score: 2.0625\n",
       "[IDup,IDup,IAnd,IAdd] | score: 2.0625\n",
       "*** original: (nparams: 1 | [IDup,IAnd])***\n",
       "[] | score: 3.0\n",
       "[IDup,IAnd] | score: 2.25\n",
       "[IDup,ISwap,IAnd] | score: 2.125"
      ]
     },
     "metadata": {},
     "output_type": "display_data"
    }
   ],
   "source": [
    "optimise :: Program -> IO ()\n",
    "optimise c = do\n",
    "  liftIO $ putStrLn $ \"*** original: \" <> show c <> \"***\"\n",
    "  steps <- mhTrace 1000 c\n",
    "  let descendingScore (s, _) (s', _) = compare s' s\n",
    "  let opts = take 4 $ nub $\n",
    "        sortBy descendingScore [(s, p) | (s, p) <- steps, s >= 2.0]\n",
    "  forM_ opts $ \\(s, p) -> do\n",
    "    liftIO $ putStrLn $ show (progInsts p) <> \" | \" <> \"score: \" <> show s\n",
    "\n",
    "\n",
    "main :: IO ()\n",
    "main = do\n",
    "  optimise $ Program 0 [IPush 2, IPush 3, IAdd]\n",
    "  optimise $ Program 1 [IPush 2, IMul]\n",
    "  optimise $ Program 1 [IDup, IAnd]\n",
    "  \n",
    "main"
   ]
  },
  {
   "cell_type": "markdown",
   "metadata": {},
   "source": [
    "#### Conclusions\n",
    "\n",
    "My takeaway from this quick weekend hacking project are twofold:\n",
    "- MCMC is quite powerful at exploring search spaces, even when the cost function isn't all that \"smooth\".\n",
    "- Z3 is quite a good solver, an `SBV` is an _amazingly well designed_ library --- it took me all of 15 minutes to get the library\n",
    "working!\n",
    "- Guiding MCMC with extra knowledge seems to be really useful.\n",
    "- I don't ever need to code up basic compiler transformations again `:)`\n",
    "\n",
    "I really enjoyed reproducing the `STOKE` paper: It's well written, extremely clear about what they did,\n",
    "and plain fun to replicate. \n",
    "\n",
    "I'd like to expand this to add more instructions, or alternatively, cannibalize the code written here\n",
    "into my [`tiny-optimising-compiler`](https://github.com/bollu/tiny-optimising-compiler)\n",
    "project which hopes to be the go-to reference for all newfangled compiler optimisation techniques."
   ]
  }
 ],
 "metadata": {
  "kernelspec": {
   "display_name": "Haskell",
   "language": "haskell",
   "name": "haskell"
  },
  "language_info": {
   "codemirror_mode": "ihaskell",
   "file_extension": ".hs",
   "name": "haskell",
   "pygments_lexer": "Haskell",
   "version": "8.6.5"
  }
 },
 "nbformat": 4,
 "nbformat_minor": 4
}
